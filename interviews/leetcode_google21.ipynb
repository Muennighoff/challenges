{
  "nbformat": 4,
  "nbformat_minor": 0,
  "metadata": {
    "colab": {
      "name": "leetcode21.ipynb",
      "provenance": [],
      "collapsed_sections": []
    },
    "kernelspec": {
      "name": "python3",
      "display_name": "Python 3"
    },
    "language_info": {
      "name": "python"
    }
  },
  "cells": [
    {
      "cell_type": "code",
      "metadata": {
        "colab": {
          "base_uri": "https://localhost:8080/"
        },
        "id": "kstCOloMWbeG",
        "outputId": "12bdef95-c945-4db8-ba02-276f4693c180"
      },
      "source": [
        "def maxXor(arr, queries):\n",
        "    ans = []\n",
        "    trie = {}\n",
        "    # Get the longest binary number-1; -2 for len & every binary number has 1 digit\n",
        "    k = len(bin(max(arr+queries))) - 2 \n",
        "    # Turn int into binary (>b) & fill with zeroes up until our longest binary number\n",
        "    for number in ['{:b}'.format(x).zfill(k) for x in arr]:\n",
        "        # First node is the beginning of our Trie\n",
        "        node = trie\n",
        "        # Add each 0 / 1 to our Trie if not already present & step down\n",
        "        for char in number:\n",
        "            node = node.setdefault(char, {})\n",
        "    # Iterate through queries\n",
        "    for n in queries:\n",
        "        node = trie\n",
        "        s = ''\n",
        "        # Turn the query into a binary & iterate through its 1/0s\n",
        "        for char in'{:b}'.format(n).zfill(k) :\n",
        "            # Take the XOR between the character & 1 >>> If char = 1; XOR = 0; else XOR = 1\n",
        "            # The intuition is that we try to find an array as opposite to the input as possible\n",
        "            # > If it's the exact opposite then query XOR array[i] = 1 * len(query)\n",
        "            tmp = str(int(char) ^ 1)\n",
        "            # If the XOR of the char is present in the Trie (i.e. it is present in our array), use it - else proceed with the char\n",
        "            tmp = tmp if tmp in node else char \n",
        "            # Reconstruct our array number\n",
        "            s += tmp\n",
        "            # Go down the trie one step\n",
        "            node = node[tmp]\n",
        "        # Turn binary string back into decimal (to get a number from our array) & take the XOR with our query\n",
        "        # This is the maximum XOR as we take the most opposite string XOR the query\n",
        "        # e.g 1001 XOR 0110 = 1111\n",
        "        ans.append(int(s, 2) ^ n) \n",
        "    return ans\n",
        "\n",
        "# The exact opposite of 6 is 9 with a XOR of 15, so it should choose 15\n",
        "maxXor([9, 8, 7, 6, 5, 4, 3, 2, 1], [6])"
      ],
      "execution_count": null,
      "outputs": [
        {
          "output_type": "execute_result",
          "data": {
            "text/plain": [
              "[15]"
            ]
          },
          "metadata": {},
          "execution_count": 48
        }
      ]
    },
    {
      "cell_type": "code",
      "metadata": {
        "colab": {
          "base_uri": "https://localhost:8080/"
        },
        "id": "8Pz1N3YKuGi_",
        "outputId": "e8fb02a4-ad38-4f4c-a31c-5ed6b074c007"
      },
      "source": [
        "print(int(\"1001\", 2), int(\"0110\", 2), int(\"1111\", 2))\n",
        "print(int(\"1001\", 2) ^ int(\"0110\", 2))"
      ],
      "execution_count": null,
      "outputs": [
        {
          "output_type": "stream",
          "name": "stdout",
          "text": [
            "9 6 15\n",
            "15\n"
          ]
        }
      ]
    },
    {
      "cell_type": "code",
      "metadata": {
        "colab": {
          "base_uri": "https://localhost:8080/",
          "height": 35
        },
        "id": "UbhtQT7nryq0",
        "outputId": "75914f6e-f3f9-412d-8e51-fc3b8f7289a6"
      },
      "source": [
        "bin(100)"
      ],
      "execution_count": null,
      "outputs": [
        {
          "output_type": "execute_result",
          "data": {
            "application/vnd.google.colaboratory.intrinsic+json": {
              "type": "string"
            },
            "text/plain": [
              "'0b1100100'"
            ]
          },
          "metadata": {},
          "execution_count": 49
        }
      ]
    },
    {
      "cell_type": "code",
      "metadata": {
        "colab": {
          "base_uri": "https://localhost:8080/"
        },
        "id": "aS1lBjdXwg-d",
        "outputId": "e0bf0b3b-e503-48e4-f726-f152dfe39da8"
      },
      "source": [
        "# XOR is commutative obviously\n",
        "int(\"0b0011011\", 2) ^ int(\"0b1100100\", 2) == int(\"0b1100100\", 2) ^ int(\"0b0011011\", 2)"
      ],
      "execution_count": null,
      "outputs": [
        {
          "output_type": "execute_result",
          "data": {
            "text/plain": [
              "True"
            ]
          },
          "metadata": {},
          "execution_count": 65
        }
      ]
    },
    {
      "cell_type": "code",
      "metadata": {
        "colab": {
          "base_uri": "https://localhost:8080/"
        },
        "id": "5_5dmA9NxTNY",
        "outputId": "d1d538b8-dab4-477e-8c64-674db2d03c39"
      },
      "source": [
        "# Query is 2\n",
        "print(int(\"0b10\", 2))\n",
        "\n",
        "# Max XOR with 2 is:\n",
        "print(int(\"0b01\", 2))\n",
        "\n",
        "# Their XOR is 3; Since 3-2 = 1, there is just 1 solution\n",
        "print(int(\"0b10\", 2) ^ int(\"0b01\", 2))\n",
        "\n",
        "\n",
        "# Query is 10\n",
        "print(bin(10))\n",
        "\n",
        "# Max XOR with 10 is:\n",
        "print(int(\"0b0101\", 2))\n",
        "\n",
        "# Their XOR is 15; Since 15 - 10 = 5, there are 5 solutions\n",
        "print(int(\"0b0101\", 2) ^ 10)"
      ],
      "execution_count": null,
      "outputs": [
        {
          "output_type": "stream",
          "name": "stdout",
          "text": [
            "2\n",
            "1\n",
            "3\n",
            "0b1010\n",
            "5\n",
            "15\n"
          ]
        }
      ]
    },
    {
      "cell_type": "code",
      "metadata": {
        "colab": {
          "base_uri": "https://localhost:8080/"
        },
        "id": "VGrsYsV3y_GI",
        "outputId": "d1cb16f8-6b7f-499c-893d-c5c3543031a9"
      },
      "source": [
        "# Inverse\n",
        "print(bin(int(\"0b1010\", 2) ^ int(\"1111\", 2))[2:].zfill(4))"
      ],
      "execution_count": null,
      "outputs": [
        {
          "output_type": "stream",
          "name": "stdout",
          "text": [
            "0101\n"
          ]
        }
      ]
    },
    {
      "cell_type": "code",
      "metadata": {
        "colab": {
          "base_uri": "https://localhost:8080/"
        },
        "id": "iQR4hUDj0LrQ",
        "outputId": "bc7dbf25-cdaa-425e-cbd1-102743d1d539"
      },
      "source": [
        "def theGreatXor(x):\n",
        "    # Inverse the binary rep of x\n",
        "    inv = x ^ int(len(bin(x)[2:]) * \"1\", 2)\n",
        "    # Get the maximum possible XOR & return the diff as the amount of possibilities\n",
        "    return (x ^ inv) - x\n",
        "theGreatXor(10)"
      ],
      "execution_count": null,
      "outputs": [
        {
          "output_type": "execute_result",
          "data": {
            "text/plain": [
              "5"
            ]
          },
          "metadata": {},
          "execution_count": 98
        }
      ]
    },
    {
      "cell_type": "code",
      "metadata": {
        "colab": {
          "base_uri": "https://localhost:8080/"
        },
        "id": "KhSaTbYg1cF3",
        "outputId": "71f1409c-48a6-47e4-fb18-57b3fe10d148"
      },
      "source": [
        "# One Liner \n",
        "theGreatXor = lambda x:  (x ^ (x ^ int(len(bin(x)[2:]) * \"1\", 2))) - x\n",
        "theGreatXor(10)"
      ],
      "execution_count": null,
      "outputs": [
        {
          "output_type": "execute_result",
          "data": {
            "text/plain": [
              "5"
            ]
          },
          "metadata": {},
          "execution_count": 100
        }
      ]
    },
    {
      "cell_type": "code",
      "metadata": {
        "id": "JRKOGjPB12W6"
      },
      "source": [
        "# Solution from Discussion\n",
        "# > value is the possible numbers we can represent given our current digits\n",
        "# I.e. we'll get the possible numbers we can represent with the same digits as x\n",
        "# > Substracting x from that gives us how many larger numbers there can be (We can get all of them with XOR)\n",
        "def theGreatXor(x):\n",
        "    value = 1\n",
        "    while value <= x:\n",
        "        value *= 2\n",
        "    return value -1 -x"
      ],
      "execution_count": null,
      "outputs": []
    },
    {
      "cell_type": "code",
      "metadata": {
        "colab": {
          "base_uri": "https://localhost:8080/"
        },
        "id": "9AVsffWLwVzZ",
        "outputId": "f587f572-c16e-45f7-e4cb-3df9385139fd"
      },
      "source": [
        "def gcd(a,b):\n",
        "    if (b==0):\n",
        "        return a\n",
        "    return gcd(b, a%b)\n",
        "# works by diving up the rest step by step\n",
        "gcd(20, 15)"
      ],
      "execution_count": null,
      "outputs": [
        {
          "output_type": "execute_result",
          "data": {
            "text/plain": [
              "5"
            ]
          },
          "metadata": {},
          "execution_count": 113
        }
      ]
    },
    {
      "cell_type": "code",
      "metadata": {
        "colab": {
          "base_uri": "https://localhost:8080/"
        },
        "id": "CAmHFGU16qEN",
        "outputId": "ddaddaed-1237-42bd-881b-283ac22abdfe"
      },
      "source": [
        "gcd(100, 96)"
      ],
      "execution_count": null,
      "outputs": [
        {
          "output_type": "execute_result",
          "data": {
            "text/plain": [
              "4"
            ]
          },
          "metadata": {},
          "execution_count": 117
        }
      ]
    },
    {
      "cell_type": "code",
      "metadata": {
        "colab": {
          "base_uri": "https://localhost:8080/"
        },
        "id": "fM195Iqd4BBX",
        "outputId": "cb5495c6-364b-429a-92e9-8e4376ff0c7e"
      },
      "source": [
        "20 % 15, 15 % 5"
      ],
      "execution_count": null,
      "outputs": [
        {
          "output_type": "execute_result",
          "data": {
            "text/plain": [
              "(5, 0)"
            ]
          },
          "metadata": {},
          "execution_count": 110
        }
      ]
    },
    {
      "cell_type": "code",
      "metadata": {
        "id": "V8gNAOSn4xGY"
      },
      "source": [
        "# e.g. 8 & 6\n",
        "# 8 % 6 = 2\n",
        "# 6 % 2 = 0 # > Answer is 2\n",
        "\n",
        "# Iteratively try to fit the rest into the smaller number\n",
        "# > This makes sense, cuz the rest is \n",
        "# 10 % 6 = 4\n",
        "# 6 % 4 = 2\n",
        "# 4 % 2 = 0\n",
        "\n",
        "# 6 % 10 = 6\n",
        "# 10 % 6 = 4 # > Same as above\n",
        "# 6 % 4 = 2 \n",
        "# 4 % 2 = 0 > Answer is 2\n",
        "\n",
        "# https://www.khanacademy.org/computing/computer-science/cryptography/modarithmetic/a/the-euclidean-algorithm"
      ],
      "execution_count": null,
      "outputs": []
    },
    {
      "cell_type": "code",
      "metadata": {
        "colab": {
          "base_uri": "https://localhost:8080/"
        },
        "id": "72hhU8lp541D",
        "outputId": "30d80c72-cfc9-4988-9a48-7fd4200c9afc"
      },
      "source": [
        "import math\n",
        "def relativeSort(n, A, B):\n",
        "    # swap, not swap\n",
        "    dp = [[1, 0]] + [[math.inf, math.inf] for _ in range(n - 1)]\n",
        "    for i, (a0, a1, b0, b1) in enumerate(zip(A, A[1:], B, B[1:]), 1):\n",
        "        print(dp)\n",
        "        if a1 > a0 and b1 > b0:\n",
        "            # last time swapped, this time swap again\n",
        "            dp[i][0] = min(dp[i][0], 1 + dp[i - 1][0]) # > [2, math.inf]\n",
        "            # last time not swapped, this time not swap again\n",
        "            dp[i][1] = min(dp[i][1], dp[i - 1][1]) # > [2, 0] \n",
        "        if a1 > b0 and b1 > a0:\n",
        "            # last time not swapped, this time swap\n",
        "            dp[i][0] = min(dp[i][0], 1 + dp[i - 1][1]) # [1, 0]\n",
        "            # last time swapped, this time not swap\n",
        "            dp[i][1] = min(dp[i][1], dp[i - 1][0]) # [1, 0]\n",
        "        if min(dp[i]) == math.inf: return -1\n",
        "    return min(dp[-1])\n",
        "\n",
        "n = 4\n",
        "A = [1, 4, 4, 9]\n",
        "B = [2, 3, 5, 10]\n",
        "n = 4\n",
        "A = [1, 3, 6, 5]\n",
        "B = [2, 5, 4, 7]\n",
        "print(relativeSort(n, A[:], B[:]))"
      ],
      "execution_count": null,
      "outputs": [
        {
          "output_type": "stream",
          "name": "stdout",
          "text": [
            "[[1, 0], [inf, inf], [inf, inf], [inf, inf]]\n",
            "[[1, 0], [1, 0], [inf, inf], [inf, inf]]\n",
            "[[1, 0], [1, 0], [1, 1], [inf, inf]]\n",
            "1\n"
          ]
        }
      ]
    },
    {
      "cell_type": "code",
      "metadata": {
        "colab": {
          "base_uri": "https://localhost:8080/"
        },
        "id": "IBHI7VM_JSjX",
        "outputId": "f48f1025-2aa0-4b7c-d883-fd18d3c1b3dd"
      },
      "source": [
        "n = 2\n",
        "A = [9,5]\n",
        "B = [9,5]\n",
        "print(relativeSort(n, A[:], B[:]))\n",
        "# > Only swapping of ith element in both is allowed"
      ],
      "execution_count": null,
      "outputs": [
        {
          "output_type": "stream",
          "name": "stdout",
          "text": [
            "-1\n"
          ]
        }
      ]
    },
    {
      "cell_type": "code",
      "metadata": {
        "colab": {
          "base_uri": "https://localhost:8080/"
        },
        "id": "ocGlI86mJapN",
        "outputId": "2740fb4a-588e-48e5-ad4f-7fec41fbf666"
      },
      "source": [
        ""
      ],
      "execution_count": null,
      "outputs": [
        {
          "output_type": "execute_result",
          "data": {
            "text/plain": [
              "[]"
            ]
          },
          "metadata": {},
          "execution_count": 127
        }
      ]
    },
    {
      "cell_type": "code",
      "metadata": {
        "id": "9iLMFYwdJFy-"
      },
      "source": [
        "# A: [9, 5]\n",
        "# B: [9, 5]"
      ],
      "execution_count": null,
      "outputs": []
    },
    {
      "cell_type": "code",
      "metadata": {
        "colab": {
          "base_uri": "https://localhost:8080/"
        },
        "id": "8pG_EG86Hk8T",
        "outputId": "a222bad5-764e-4c6f-ab6b-b2c5cb97e090"
      },
      "source": [
        "dp = [[1, 0]] + [[math.inf, math.inf] for _ in range(5)]\n",
        "dp"
      ],
      "execution_count": null,
      "outputs": [
        {
          "output_type": "execute_result",
          "data": {
            "text/plain": [
              "[[1, 0], [inf, inf], [inf, inf], [inf, inf], [inf, inf], [inf, inf]]"
            ]
          },
          "metadata": {},
          "execution_count": 121
        }
      ]
    },
    {
      "cell_type": "code",
      "metadata": {
        "colab": {
          "base_uri": "https://localhost:8080/"
        },
        "id": "C0IoPKYwHl9c",
        "outputId": "25ad7c8a-db86-4420-ad95-2adebee23eac"
      },
      "source": [
        "i = 1\n",
        "# inf  vs 1 + 1\n",
        "min(dp[i][0], 1 + dp[i - 1][0])"
      ],
      "execution_count": null,
      "outputs": [
        {
          "output_type": "execute_result",
          "data": {
            "text/plain": [
              "2"
            ]
          },
          "metadata": {},
          "execution_count": 122
        }
      ]
    },
    {
      "cell_type": "code",
      "metadata": {
        "colab": {
          "base_uri": "https://localhost:8080/"
        },
        "id": "qS46_h-PIGQm",
        "outputId": "5dfb9ed4-4056-42c6-f09b-0d2d66ebe944"
      },
      "source": [
        "# https://leetcode.com/problems/minimum-swaps-to-make-sequences-increasing/discuss/119835/Java-O(n)-DP-Solution\n",
        "# Time O(n) & Space O(1)\n",
        "\n",
        "def swap_sort(n, A, B):\n",
        "    assert len(A) == len(B), \"Only works for same sized arrays\"\n",
        "    # How many swaps we need to do for a sorted array if we swap the ith element\n",
        "    swap_record = 1\n",
        "    # How many swaps we need to do for a sorted array if we fix the ith element\n",
        "    fix_record = 0\n",
        "    for idx in range(1, len(A)):\n",
        "        # We use >=, since it should be strictly sorted! i.e. 3,3 is not allowed\n",
        "        ### DO THE SAME ###\n",
        "        if (A[idx-1] >= B[idx]) or (B[idx-1] >= A[idx]):\n",
        "            # Do what we did before, since if we do the opposite it definitely will not be sorted!\n",
        "            # E.g. if we swapped previously, and fix now, then it wont be sorted since the A_prev is bigger than B_cur\n",
        "            # Fix record stays the same, as we do what we previously did\n",
        "            fix_record = fix_record\n",
        "            # Swap record means we swap, so we add 1\n",
        "            swap_record += 1\n",
        "        ### DO THE OPPOSITE ###\n",
        "        elif (A[idx] <= A[idx-1]) or (B[idx] <= B[idx-1]):\n",
        "            # If we fix this one, we definitely need to swap the previous one as it seems unsorted (prev is higher than curr)    \n",
        "            # If we swap this one, we definitely need to fix the prior one, because if we swap both, we'll just move the prev higher than curr to the other array\n",
        "            # So we just take the opposite array\n",
        "            swap_record, fix_record = fix_record, swap_record\n",
        "            # Swap record means we swap, so we add 1\n",
        "            swap_record += 1\n",
        "        ### DOES NOT MATTER ###\n",
        "        else:\n",
        "            # It seems strictly sorted (e.g. A[idx] > A[idx-1]), so swap or fix is okay - We revert back to the min\n",
        "            min_record = min(swap_record, fix_record)\n",
        "            fix_record = min_record\n",
        "            swap_record = min_record\n",
        "            # Swap record means we swap, so we add 1\n",
        "            swap_record += 1\n",
        "    # Return the smallest needed swaps\n",
        "    return min(swap_record, fix_record)\n",
        "\n",
        "\n",
        "print(swap_sort(2, [4,8], [7,6])) # Need to swap the 0th element\n",
        "print(swap_sort(4, [1,3,5,4,9], [1,2,3,7,10])) # Need to swaph3rd element\n",
        "\n",
        "\n",
        "# Simplified version (Exactly the same as above)\n",
        "def minSwap(self, A: List[int], B: List[int]) -> int:\n",
        "    swap, no_swap, n = 1, 0, len(A)\n",
        "    for i in range(1, n):\n",
        "        if A[i-1] < A[i] and B[i-1] < B[i] and A[i-1] < B[i] and B[i-1] < A[i]:\n",
        "            swap = no_swap = min(swap, no_swap)\n",
        "        else:\n",
        "            if A[i-1] >= A[i] or B[i-1] >= B[i]:   swap, no_swap = no_swap, swap       \n",
        "        swap += 1\n",
        "    return min(swap, no_swap)"
      ],
      "execution_count": null,
      "outputs": [
        {
          "output_type": "stream",
          "name": "stdout",
          "text": [
            "1\n",
            "1\n"
          ]
        }
      ]
    },
    {
      "cell_type": "code",
      "metadata": {
        "colab": {
          "base_uri": "https://localhost:8080/"
        },
        "id": "da1MetWnUr4g",
        "outputId": "e0b0c7df-615f-4590-87a1-7206cb52fdaf"
      },
      "source": [
        "# Longest Increasng Sequence via Dynamic Programming\n",
        "def lis(A):\n",
        "    L = [1] * len(A)\n",
        "    for i in range(len(L)):\n",
        "        # Get all previous counts of all numbers that are connected to this one\n",
        "        subproblems = [L[k] for k in range(i) if A[k] < A[i]]\n",
        "        # connect it with the largest chain; Set default to 0 in case of an empty sequence (at the beg)\n",
        "        # (We do not need to care for other chains since one way or another the next number will now need to be higher than the current one)\n",
        "        L[i] = max(subproblems, default=0) + 1\n",
        "    return max(L, default=0)\n",
        "\n",
        "print(lis([1, 8, 2, 9, 3, 10, 5]))\n",
        "\n",
        "# Get the actual chain\n",
        "def lis_chain(A):\n",
        "    # Init index to -1\n",
        "    L = [[1, -1]] * len(A)\n",
        "    for i in range(len(L)):\n",
        "        # Also get the index\n",
        "        subproblems = [[L[k][0], k] for k in range(i) if A[k] < A[i]]\n",
        "        L[i] = max(subproblems, key=lambda x: x[0], default=[0, -1]) # We add the 1 in the next line\n",
        "        L[i][0] += 1\n",
        "    len_idx = max(L, key=lambda x: x[0], default=0)\n",
        "    # Traverse back\n",
        "    assert len(L) == len(A), \"Must have same length\"\n",
        "    # Add number of current idx\n",
        "    seq = [A[L.index(len_idx)]]\n",
        "    # Add all previous numbers\n",
        "    idx = len_idx[1]\n",
        "    while idx >= 0:\n",
        "        seq.insert(0, A[idx])\n",
        "        idx = L[idx][1]\n",
        "    return seq\n",
        "\n",
        "print(lis_chain([1, 8, 2, 9, 3, 10, 5]))"
      ],
      "execution_count": null,
      "outputs": [
        {
          "output_type": "stream",
          "name": "stdout",
          "text": [
            "4\n",
            "[1, 8, 9, 10]\n"
          ]
        }
      ]
    },
    {
      "cell_type": "code",
      "metadata": {
        "colab": {
          "base_uri": "https://localhost:8080/"
        },
        "id": "UVtSZohCUsh-",
        "outputId": "6074f3b0-5b0d-4b96-f2b2-b3ff1264501e"
      },
      "source": [
        "# Delayed Projects\n",
        "# https://leetcode.com/discuss/interview-question/397524/\n",
        "def delayed_projects(dependencies, delays):\n",
        "    # Turn into {dependency: [items]}\n",
        "    dep_projs = {}\n",
        "    for sub_dic in dependencies:\n",
        "        for k, v in sub_dic.items():\n",
        "            dep_projs.setdefault(v, [])\n",
        "            dep_projs[v].append(k)\n",
        "    print(dep_projs)\n",
        "    # BFS\n",
        "    total_delayed = set(delays)\n",
        "    seen = set()\n",
        "    while delays:\n",
        "        del_proj = delays.pop(0)\n",
        "        if (del_proj not in seen) and (del_proj in dep_projs):\n",
        "            new_delays = dep_projs[del_proj]\n",
        "            total_delayed.update(set(new_delays))\n",
        "            delays.extend(new_delays)\n",
        "            seen.add(del_proj)\n",
        "    return total_delayed\n",
        "\n",
        "# Example dep; str to str is okay as just 1 dep\n",
        "# X depends on Y\n",
        "dependencies = [{'B':'A'}, {'C':'B'}, {'C':'E'},{'D':'C'},{'D':'F'},{'E':'A'},{'F':'E'},{'G':'F'}]\n",
        "delays = ['B','F']\n",
        "\n",
        "delayed_projects(dependencies, delays)"
      ],
      "execution_count": null,
      "outputs": [
        {
          "output_type": "stream",
          "name": "stdout",
          "text": [
            "{'A': ['B', 'E'], 'B': ['C'], 'E': ['C', 'F'], 'C': ['D'], 'F': ['D', 'G']}\n"
          ]
        },
        {
          "output_type": "execute_result",
          "data": {
            "text/plain": [
              "{'B', 'C', 'D', 'F', 'G'}"
            ]
          },
          "metadata": {},
          "execution_count": 37
        }
      ]
    },
    {
      "cell_type": "code",
      "metadata": {
        "colab": {
          "base_uri": "https://localhost:8080/"
        },
        "id": "apbRcICnctjy",
        "outputId": "6dae7d43-0bd1-4a98-a802-3f1e696f5b56"
      },
      "source": [
        "# A pizza shop offers n pizzas along with m toppings. A customer plans to spend around x coins. \n",
        "# 1 pizza, 0, 1 or 2 toppings. Each topping once.\n",
        "\n",
        "# Given the lists of prices of available pizzas and toppings, what is the price closest to x of possible orders? Here, a price said closer to x when the difference from x is the smaller. Note the customer is allowed to make an order that costs more than x.\n",
        "\n",
        "# https://leetcode.com/discuss/interview-question/356935/\n",
        "\n",
        "def closest_price(pizzas, toppings, coins):\n",
        "    # Approach 1: Prefilter pizzas by closest + lower; Then combine with up to 3 toppings\n",
        "    # Approach 2: Create array of all possible combinations; substract price, take abs & sort\n",
        "    # Approach 3: Create all topping combinations; Iterate through all pizzas & combine them with the toppings using binary search (not having to eval all toppings)\n",
        "      # > Can use python module bisect, which uses binary search (O log(n)) to find the correct idx in array\n",
        "    import bisect\n",
        "    top_comb = {0}\n",
        "    for t in toppings:\n",
        "      top_comb.add(t)\n",
        "      for t2 in toppings:\n",
        "        top_comb.add(t+t2)\n",
        "    # Sort in ascending order\n",
        "    top_comb = sorted(top_comb)\n",
        "\n",
        "    closest_price = float(\"inf\")\n",
        "    best_price = -1\n",
        "    for p in pizzas:\n",
        "      # Always buy 1 pizza\n",
        "      coins_left = coins - p\n",
        "      idx = bisect.bisect_left(top_comb, coins_left)\n",
        "      # Try to combine with prev & subseq index\n",
        "      for t in (top_comb[idx-1], top_comb[idx]):\n",
        "          if abs(coins_left-t) < closest_price:\n",
        "              closest_price = abs(coins_left-t)\n",
        "              best_price = p+t # Store the price of this pizza & topping combo\n",
        "          elif abs(coins_left-t) == closest_price:\n",
        "              # Prefer the lower one; Closest does not need to be updated\n",
        "              best_price = min(best_price, p+t)\n",
        "    return best_price\n",
        "\n",
        "pizzas5 = [800, 800, 800, 800]\n",
        "toppings5 = [100, 50, 50]\n",
        "coins = 1000\n",
        "print(closest_price(pizzas5, toppings5, coins))\n",
        "\n",
        "pizzas5 = [800, 1050, 800, 800]\n",
        "toppings5 = [99999, 50, 99999]\n",
        "coins = 1000\n",
        "print(closest_price(pizzas5, toppings5, coins))\n"
      ],
      "execution_count": null,
      "outputs": [
        {
          "output_type": "stream",
          "name": "stdout",
          "text": [
            "1000\n",
            "1050\n"
          ]
        }
      ]
    },
    {
      "cell_type": "code",
      "metadata": {
        "colab": {
          "base_uri": "https://localhost:8080/"
        },
        "id": "foqb_bGOonSO",
        "outputId": "8b68845b-12a8-44ef-9cee-2d17d3f13f1d"
      },
      "source": [
        "# https://leetcode.com/problems/minimum-height-trees/\n",
        "from typing import List\n",
        "\n",
        "# Finds the centroid node\n",
        "def findMinHeightTrees(n: int, edges: List[List[int]]) -> List[int]:\n",
        "\n",
        "    # base cases\n",
        "    if n <= 2:\n",
        "        return [i for i in range(n)]\n",
        "\n",
        "    # Build the graph with the adjacency list\n",
        "    neighbors = [set() for i in range(n)]\n",
        "    for start, end in edges:\n",
        "        neighbors[start].add(end)\n",
        "        neighbors[end].add(start)\n",
        "\n",
        "    # > We hold all the connections for each node\n",
        "\n",
        "    # Initialize the first layer of leaves\n",
        "    leaves = []\n",
        "    for i in range(n):\n",
        "        # If just one connection, it must be a leaf\n",
        "        if len(neighbors[i]) == 1:\n",
        "            leaves.append(i)\n",
        "\n",
        "    # Trim the leaves until reaching the centroids\n",
        "\n",
        "    # BFS essentially\n",
        "    remaining_nodes = n\n",
        "    while remaining_nodes > 2:\n",
        "        remaining_nodes -= len(leaves)\n",
        "        new_leaves = []\n",
        "        # remove the current leaves along with the edges\n",
        "        while leaves:\n",
        "            leaf = leaves.pop()\n",
        "            # the only neighbor left for the leaf node\n",
        "            neighbor = neighbors[leaf].pop()\n",
        "            # remove the only edge left\n",
        "            neighbors[neighbor].remove(leaf)\n",
        "            if len(neighbors[neighbor]) == 1:\n",
        "                new_leaves.append(neighbor)\n",
        "\n",
        "        # prepare for the next round\n",
        "        leaves = new_leaves\n",
        "\n",
        "    # The remaining nodes are the centroids of the graph\n",
        "    return leaves\n",
        "\n",
        "# Tree with 4 at the center\n",
        "print(findMinHeightTrees(6, [[4,2],[4,3],[4,1],[4,5]]))\n",
        "\n",
        "# https://leetcode.com/discuss/interview-question/356378/\n",
        "\n",
        "# Reimplementation fo the above, but finds distance of the centroid to borders\n",
        "def find_dist(n, adj_mat):\n",
        "    \"\"\"\n",
        "    Args:\n",
        "      n: Number of nodes\n",
        "      adj_mat: adjacency matrix of nodes\n",
        "    \"\"\"\n",
        "    # Distance is always 0 if n = 1; 1 if n = 2\n",
        "    if n <= 2:\n",
        "        return n-1\n",
        "    \n",
        "    # Collect neighbors - O(len(adj_mat))\n",
        "    neighbors = {num: set() for num in range(1, n+1)}\n",
        "    for (i,j) in adj_mat:\n",
        "        # Undirected so add to both\n",
        "        neighbors[i].add(j)\n",
        "        neighbors[j].add(i)\n",
        "    \n",
        "    # Trim Leaves\n",
        "    leaves = [k for k,v in neighbors.items() if len(neighbors[k]) == 1]\n",
        "    dist = 0\n",
        "    while leaves and len(neighbors) > 2:  \n",
        "        # Remove all current leaves\n",
        "        for l in leaves:\n",
        "            # Can only be one\n",
        "            l_neighbor = list(neighbors.pop(l))[0]\n",
        "            neighbors[l_neighbor].remove(l)\n",
        "        # Get new leaves\n",
        "        leaves = [k for k,v in neighbors.items() if len(neighbors[k]) == 1]\n",
        "        dist += 1\n",
        "    # If two centroids, we need to chose 1, so add 1\n",
        "    return dist + len(neighbors) - 1\n",
        "\n",
        "print()\n",
        "print(find_dist(5, [[4,2],[4,3],[4,1],[4,5]]))\n",
        "print()\n",
        "print(find_dist(6, [[1, 3], [4, 5], [5, 6], [3, 2], [3, 4]]))\n",
        "print()\n",
        "print(find_dist(2, [[1, 2]]))\n",
        "print()\n",
        "print(find_dist(n=10, adj_mat=[[1, 2], [2, 3], [3, 4], [4, 5], [5, 6], [6, 7], [7, 8], [8, 9], [9, 10]]))\n",
        "print()\n",
        "print(find_dist(n=10, adj_mat=[[7, 8], [7, 9], [4, 5], [1, 3], [3, 4], [6, 7], [4, 6], [2, 3], [9, 10]]))"
      ],
      "execution_count": null,
      "outputs": [
        {
          "output_type": "stream",
          "name": "stdout",
          "text": [
            "[4]\n",
            "\n",
            "1\n",
            "\n",
            "2\n",
            "\n",
            "1\n",
            "\n",
            "5\n",
            "\n",
            "3\n"
          ]
        }
      ]
    },
    {
      "cell_type": "code",
      "metadata": {
        "colab": {
          "base_uri": "https://localhost:8080/"
        },
        "id": "OMn6sxgZyK6U",
        "outputId": "6bdece4d-cf63-4b29-bb8d-1731d9bfe6ae"
      },
      "source": [
        "# https://leetcode.com/discuss/interview-question/396769/\n",
        "def maximum_time(time_str):\n",
        "    # HH:MM\n",
        "    # Ranges:\n",
        "    # 0,1,2 / 0-9 / 0-5 / 0-9\n",
        "    # Constraints: \n",
        "    # Last one can always be 9\n",
        "    # 2nd to last one can always be 5\n",
        "    # 3rd to last one can be 9 for 0&1; Else max 3\n",
        "    # 4th to last one can always be 0,1; 2 only if 3rd to lst one max 3\n",
        "\n",
        "    time_chars = list(time_str)\n",
        "\n",
        "    # Try to do 2\n",
        "    if time_chars[0] == \"?\":\n",
        "        if time_chars[1] in (\"?\", \"0\", \"1\", \"2\", \"3\"):\n",
        "            time_chars[0] = \"2\"\n",
        "        else:\n",
        "            time_chars[0] = \"1\" # Never do 0\n",
        "    # Try to do 9\n",
        "    if time_chars[1] == \"?\":\n",
        "        if time_chars[0] == \"2\":\n",
        "            time_chars[1] = \"3\"\n",
        "        else:\n",
        "            time_chars[1] = \"9\"\n",
        "\n",
        "    # Do 5\n",
        "    if time_chars[3] == \"?\": time_chars[3] = \"5\"\n",
        "    # Do 9\n",
        "    if time_chars[4] == \"?\": time_chars[4] = \"9\"\n",
        "\n",
        "    return \"\".join(time_chars)\n",
        "\n",
        "print(maximum_time(\"??:??\"))\n",
        "print(maximum_time(\"0?:??\"))\n",
        "print(maximum_time(\"2?:22\"))\n",
        "print(maximum_time(\"?4:5?\"))"
      ],
      "execution_count": null,
      "outputs": [
        {
          "output_type": "stream",
          "name": "stdout",
          "text": [
            "23:59\n",
            "09:59\n",
            "23:22\n",
            "14:59\n"
          ]
        }
      ]
    },
    {
      "cell_type": "code",
      "metadata": {
        "colab": {
          "base_uri": "https://localhost:8080/"
        },
        "id": "qeFx-wq68tKK",
        "outputId": "eecce422-dfdd-4350-e47b-3fe561ef0140"
      },
      "source": [
        "# https://leetcode.com/discuss/interview-question/421787/\n",
        "# Input: [\"+1A\", \"+3E\", \"-1A\", \"+4F\", \"+1A\", \"-3E\"]\n",
        "# Output: \"1A\"\n",
        "\n",
        "def max_bookings(bookings):\n",
        "    # Approach 1: Iterate through all & keep track; Time O(n) Space O(n) & then sort for max: O(log n); Time O(n + logn)\n",
        "    # Approach 2: Sort & then iterate: Time (O logn + n) Space O(1)  <--- This is better\n",
        "    # Do 1\n",
        "\n",
        "    # Missing: Lexicographical choosing\n",
        "    tracker = {}\n",
        "    for b in bookings:\n",
        "        tracker.setdefault(b[1:], 0)\n",
        "        if b[0] == \"+\":\n",
        "          tracker[b[1:]] += 1\n",
        "        else:\n",
        "          tracker[b[1:]] -= 1\n",
        "    return sorted(tracker, key=lambda x: tracker[x], reverse=True).pop(0)\n",
        "\n",
        "print(max_bookings([\"+1A\", \"+3E\", \"+1A\", \"+4F\", \"-1A\", \"-3E\"]))\n",
        "\n",
        "\n",
        "# Approach 2\n",
        "SIGN_TO_COUNT = {\"+\":1, \"-\":-1}\n",
        "\n",
        "def max_bookings2(bookings):\n",
        "    bookings = sorted(bookings, key=lambda x: x[1:])\n",
        "\n",
        "\n",
        "    max_count = float(\"-inf\")\n",
        "    max_count_room = None\n",
        "\n",
        "    data = bookings.pop(0)\n",
        "    room = data[1:]\n",
        "    change_count = SIGN_TO_COUNT[data[0]]\n",
        "    count = change_count\n",
        "    while bookings:\n",
        "        data = bookings.pop(0)\n",
        "        new_room = data[1:]\n",
        "        change_count = SIGN_TO_COUNT[data[0]]\n",
        "        if new_room != room:\n",
        "            # Check if prev room was better; or same but lexicographical smaller\n",
        "            if (count > max_count) or ((count == max_count) and (new_room[-1] < room[-1])):\n",
        "                max_count = count\n",
        "                max_count_room = room\n",
        "            # Continue with new room\n",
        "            else:\n",
        "                room = new_room\n",
        "                count = 0\n",
        "        # Increment counter\n",
        "        count += change_count\n",
        "\n",
        "    return max_count_room\n",
        "\n",
        "print(max_bookings2([\"+1A\", \"+3E\", \"+1A\", \"+4F\", \"-1A\", \"-3E\"]))"
      ],
      "execution_count": null,
      "outputs": [
        {
          "output_type": "stream",
          "name": "stdout",
          "text": [
            "1A\n",
            "1A\n"
          ]
        }
      ]
    },
    {
      "cell_type": "code",
      "metadata": {
        "colab": {
          "base_uri": "https://localhost:8080/"
        },
        "id": "K04nQ_ue-xD9",
        "outputId": "c18901fb-5478-422d-c57f-4d8682cc7f4d"
      },
      "source": [
        "\n",
        "\n",
        "# Input: keyboard = \"abcdefghijklmnopqrstuvwxy\", text = \"cba\" \n",
        "\n",
        "def time_taken(keyboard, text):\n",
        "    time = 0\n",
        "    prev_idx = 0\n",
        "    for char in text:\n",
        "        idx = keyboard.index(char)\n",
        "        time += abs(idx - prev_idx)\n",
        "        prev_idx = idx\n",
        "    return time\n",
        "\n",
        "# You can use a Dict instead to store the index of each keyboard entry, to reduce the time lookup to O(1) from O(len(keyboard))\n",
        "# In either case it is O(n) as keyboard is a constant of max len 26 & n, the len of text varies\n",
        "\n",
        "\n",
        "time_taken(\"abcdefghijklmnopqrstuvwxy\", text = \"cba\" )"
      ],
      "execution_count": null,
      "outputs": [
        {
          "output_type": "execute_result",
          "data": {
            "text/plain": [
              "4"
            ]
          },
          "metadata": {},
          "execution_count": 122
        }
      ]
    },
    {
      "cell_type": "code",
      "metadata": {
        "colab": {
          "base_uri": "https://localhost:8080/"
        },
        "id": "X4ag-qiMDbfL",
        "outputId": "894dff11-86c3-4300-a0e4-79c91527c94c"
      },
      "source": [
        "# https://leetcode.com/problems/maximum-level-sum-of-a-binary-tree/\n",
        "# Input: root = [1,7,0,7,-8,null,null]\n",
        "# Output: 2\n",
        "\n",
        "def max_sum(tree):   \n",
        "    max_sum = tree.pop(0) # Get root\n",
        "    max_sum_level = 1\n",
        "    # BFS\n",
        "    prev_idx = 0\n",
        "    indices = [2**j for j in range(1,len(tree)+1)]\n",
        "    for lvl, end_idx in enumerate(indices, start=2):\n",
        "        new_sum = sum(tree[prev_idx:end_idx])\n",
        "        if new_sum > max_sum:\n",
        "            max_sum = new_sum\n",
        "            max_sum_level = lvl\n",
        "        prev_idx = end_idx\n",
        "        if end_idx > len(tree):\n",
        "          break\n",
        "\n",
        "    return max_sum_level\n",
        "\n",
        "print(max_sum([1,7,0,7,-8,0,0]))\n",
        "\n",
        "# Alternative using the given TreeNode class\n",
        "def maxLevelSum(self, root: TreeNode) -> int:\n",
        "    max, level, maxLevel = -float('inf'), 0, 0\n",
        "    q = collections.deque()\n",
        "    q.append(root)\n",
        "    while q:\n",
        "        level += 1\n",
        "        sum = 0\n",
        "        for _ in range(len(q)):\n",
        "            node = q.popleft()\n",
        "            sum += node.val\n",
        "            if node.left:\n",
        "                q.append(node.left)\n",
        "            if node.right:\n",
        "                q.append(node.right)\n",
        "        if max < sum:\n",
        "            max, maxLevel = sum, level        \n",
        "    return maxLevel"
      ],
      "execution_count": null,
      "outputs": [
        {
          "output_type": "execute_result",
          "data": {
            "text/plain": [
              "2"
            ]
          },
          "metadata": {},
          "execution_count": 140
        }
      ]
    },
    {
      "cell_type": "code",
      "metadata": {
        "id": "l-IuL2UHIIu9"
      },
      "source": [
        "def maxLevelSum(self, root: TreeNode) -> int:\n",
        "    ans, q, depth = (-math.inf, 0), [root], -1\n",
        "    while q:\n",
        "        ans = max(ans, (sum(node.val for node in q), depth))\n",
        "        q = [kid for node in q for kid in (node.left, node.right) if kid]\n",
        "        depth -= 1\n",
        "    return -ans[1]"
      ],
      "execution_count": null,
      "outputs": []
    },
    {
      "cell_type": "code",
      "metadata": {
        "colab": {
          "base_uri": "https://localhost:8080/"
        },
        "id": "E27m-dpzXsbl",
        "outputId": "cab13d91-7594-4555-8201-a199e89d5971"
      },
      "source": [
        "\n",
        "# Taking away chocs is the same as giving them - We can decide on one number to which to reduce the array\n",
        "# In this case we decide to reduce it to the min of the array (It can also be min-1 or min-2)\n",
        "\n",
        "def equal(a):\n",
        "    m=min(a)\n",
        "    cost=2**31\n",
        "    for i in range(5):\n",
        "        # Difference between minimum and a number\n",
        "        x = m-i\n",
        "        c = 0\n",
        "        # Iterate through array\n",
        "        for j in range(len(a)):\n",
        "            # \n",
        "            k = a[j] - x\n",
        "            # Compute the current coat\n",
        "            # If k is divisible by 5, we can take away 5 chocs & so the cost is how often we need to take 5 -> The other terms will be 0, as (x*5) % 5 = 0\n",
        "            # If there is still some left after taking x times 5, we do the same for 2\n",
        "            # If it is not divisible by 5 nor 2, we need to use 1's for the rest, which will be k%5%2\n",
        "            c += k//5 + k%5 // 2 + k%5 % 2\n",
        "            # In the worst case, we need to do this j times\n",
        "        # Assign new cost\n",
        "        cost=min(cost,c)\n",
        "    return cost\n",
        "\n",
        "equal([2, 2, 3, 7])"
      ],
      "execution_count": null,
      "outputs": [
        {
          "output_type": "execute_result",
          "data": {
            "text/plain": [
              "2"
            ]
          },
          "metadata": {},
          "execution_count": 141
        }
      ]
    },
    {
      "cell_type": "code",
      "metadata": {
        "colab": {
          "base_uri": "https://localhost:8080/"
        },
        "id": "OLcpHHlgXxOr",
        "outputId": "61bd6926-2ea7-4366-87ea-dbc1e6b54d22"
      },
      "source": [
        "# https://www.hackerrank.com/challenges/sherlock-and-cost/problem\n",
        "\n",
        "def cost(B):\n",
        "    # Write your code here\n",
        "    # Approach 1: Go through array step by step choosing the max pos first & then the min\n",
        "    # Do the same choosing min first & then max\n",
        "    # > O(2n)\n",
        "    # Max = B[i]; Min = 1\n",
        "    \n",
        "    # Hi is if current one is high; low if current one is low\n",
        "    hi_sum, lo_sum = 0, 0\n",
        "    for i in range(1, len(B)):\n",
        "        hi_lo_diff = abs(B[i-1] - 1) # High prev; Cur Low\n",
        "        lo_hi_diff = abs(1 - B[i]) # Low prev; Cur High\n",
        "        hi_hi_diff = abs(B[i-1] - B[i]) # Both high; Could be in edge cases of len > 3\n",
        "        lo_lo_diff = abs(1-1) # Both low; Could be in edge cases; Could turn into a constant\n",
        "\n",
        "        # Decide what to choose for i\n",
        "\n",
        "        # For high sum we assume the current one is high\n",
        "        hi_sum_next = max(hi_sum+hi_hi_diff, lo_sum+lo_hi_diff)\n",
        "\n",
        "        # For low sum we assume the current one is low\n",
        "        lo_sum_next = max(hi_sum+hi_lo_diff, lo_sum+lo_lo_diff)\n",
        "\n",
        "        hi_sum, lo_sum = hi_sum_next, lo_sum_next"
      ],
      "execution_count": null,
      "outputs": [
        {
          "output_type": "execute_result",
          "data": {
            "text/plain": [
              "2"
            ]
          },
          "metadata": {},
          "execution_count": 144
        }
      ]
    },
    {
      "cell_type": "code",
      "metadata": {
        "id": "vklI_vyibb_R"
      },
      "source": [
        "# https://www.hackerrank.com/challenges/prime-xor/\n",
        "# 100% copied this one\n",
        "\n",
        "from collections import Counter\n",
        "import sys\n",
        "\n",
        "def isPrime(x):\n",
        "    if x == 1:\n",
        "        return False\n",
        "    \n",
        "    if x == 2:\n",
        "        return True\n",
        "    \n",
        "    for d in range(2, max(2, int(x**0.5)) + 1):\n",
        "        if x%d == 0:\n",
        "            return False\n",
        "    return True\n",
        "\n",
        "\n",
        "def get_nevens(y):\n",
        "    return y//2 + 1\n",
        "\n",
        "\n",
        "def get_nodds(y):\n",
        "    return y//2 + y%2\n",
        "\n",
        "\n",
        "def primeXor(a):\n",
        "    n = len(a)\n",
        "    c = Counter(a) \n",
        "    E = list(c.keys())\n",
        "    M = 8192\n",
        "\n",
        "    Sp = [0] * M\n",
        "    Sn = [0] * M\n",
        "    e = E[0]\n",
        "\n",
        "    Sp[e] = get_nodds(c[e])\n",
        "    Sp[0] = get_nevens(c[e])\n",
        "\n",
        "\n",
        "    for e in E[1:]:\n",
        "        for x in range(0, M):\n",
        "            Sn[x^e] += Sp[x] * get_nodds(c[e])\n",
        "            Sn[x] += Sp[x] * get_nevens(c[e])\n",
        "\n",
        "        # next\n",
        "        Sp = Sn\n",
        "        Sn = [0] * M\n",
        "\n",
        "    result = 0 \n",
        "    for e in range(0, M):\n",
        "        if isPrime(e):\n",
        "            result += Sp[e]\n",
        "\n",
        "    return int(result%(1e9 + 7))\n"
      ],
      "execution_count": null,
      "outputs": []
    },
    {
      "cell_type": "code",
      "metadata": {
        "id": "waSJlOV84Ubq"
      },
      "source": [
        "\n",
        "def maxPerformance(self, n, speed, efficiency, k):\n",
        "    h = []\n",
        "    res = sSum = 0\n",
        "    for e, s in sorted(zip(efficiency, speed), reverse=True):\n",
        "        heapq.heappush(h, s)\n",
        "        sSum += s\n",
        "        if len(h) > k:\n",
        "            sSum -= heapq.heappop(h)\n",
        "        res = max(res, sSum * e)\n",
        "    return res % (10**9 + 7)\n",
        "    "
      ],
      "execution_count": 1,
      "outputs": []
    },
    {
      "cell_type": "code",
      "metadata": {
        "colab": {
          "base_uri": "https://localhost:8080/"
        },
        "id": "qhPX1ggD4VOr",
        "outputId": "2faacc73-f02e-4b41-e6f2-e5dc4d6a6e18"
      },
      "source": [
        "\n",
        "# Function to find all n–digit numbers with a sum of digits equal to `target`\n",
        "# in a bottom-up manner\n",
        "def findNdigitNums(n, target, result=''):\n",
        " \n",
        "    # if the number is less than n–digit and its sum of digits is\n",
        "    # less than the given sum\n",
        "    if n > 0 and target >= 0:\n",
        " \n",
        "        d = ord('0')\n",
        "        #if result == \"\":        # special case: number cannot start from 0\n",
        "        #    d = ord('1')\n",
        " \n",
        "        # consider every valid digit and put it in the current index,\n",
        "        # and recur for the next index\n",
        "        while d <= ord('9'):\n",
        "            findNdigitNums(n - 1, target - (d - ord('0')), result + chr(d))\n",
        "            d = d + 1\n",
        " \n",
        "    # if the number becomes n–digit and its sum of digits is\n",
        "    # equal to the given sum, print it\n",
        "    elif n == 0 and target == 0:\n",
        "        print(result)\n",
        " \n",
        " \n",
        "if __name__ == '__main__':\n",
        " \n",
        "    n = 3       # n–digit\n",
        "    target = 3     # given sum\n",
        " \n",
        "    findNdigitNums(n, target)"
      ],
      "execution_count": 16,
      "outputs": [
        {
          "output_type": "stream",
          "name": "stdout",
          "text": [
            "003\n",
            "012\n",
            "021\n",
            "030\n",
            "102\n",
            "111\n",
            "120\n",
            "201\n",
            "210\n",
            "300\n"
          ]
        }
      ]
    },
    {
      "cell_type": "code",
      "metadata": {
        "colab": {
          "base_uri": "https://localhost:8080/"
        },
        "id": "qeCZOg1C4Zx5",
        "outputId": "a40b4737-8a44-4e44-9a90-285753e432a3"
      },
      "source": [
        "int(\"003\")"
      ],
      "execution_count": 17,
      "outputs": [
        {
          "output_type": "execute_result",
          "data": {
            "text/plain": [
              "3"
            ]
          },
          "metadata": {},
          "execution_count": 17
        }
      ]
    },
    {
      "cell_type": "code",
      "metadata": {
        "id": "cpDLocx3-xxw"
      },
      "source": [
        ""
      ],
      "execution_count": null,
      "outputs": []
    }
  ]
}