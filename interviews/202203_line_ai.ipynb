{
  "nbformat": 4,
  "nbformat_minor": 0,
  "metadata": {
    "colab": {
      "name": "Untitled29.ipynb",
      "provenance": []
    },
    "kernelspec": {
      "name": "python3",
      "display_name": "Python 3"
    },
    "language_info": {
      "name": "python"
    }
  },
  "cells": [
    {
      "cell_type": "markdown",
      "source": [
        "LINE - スーパーコンピュータの予約確認リクエスト"
      ],
      "metadata": {
        "id": "f0IIZ0Pd2vxn"
      }
    },
    {
      "cell_type": "code",
      "source": [
        "#スーパーコンプー太を利用できる時間帯は、n個の予約時間で管理されており、それぞれの枠には現在から未来にわたって旬に\n",
        "\n",
        "# -1 if from l to r all windows are booked\n",
        "# if window free, output the fastest one\n",
        "# reply to all q queries\n",
        "\n",
        "# format\n",
        "#n mn\\ mn m\n",
        "#a1 a2 ⋯ ama_1\\ a_2\\ \\cdots\\ a_ma1​ a2​ ⋯ am​\n",
        "#qqq\n",
        "#l1 r1l_1\\ r_1l1​ r1​\n",
        "#⋮\\vdots⋮\n",
        "#lq rql_q\\ r_qlq​ rq​"
      ],
      "metadata": {
        "id": "M6FZw1wFRUUm"
      },
      "execution_count": null,
      "outputs": []
    },
    {
      "cell_type": "code",
      "source": [
        "\n",
        "DATA = \"\"\"\n",
        "10 5\n",
        "3 4 6 7 8\n",
        "5\n",
        "1 1\n",
        "3 7\n",
        "6 8\n",
        "8 9\n",
        "8 8\n",
        "\"\"\"\n",
        "\n",
        "\n",
        "# Helper for working in Colab\n",
        "DATA_ITER = iter(DATA.split(\"\\n\")[1:-1])\n",
        "\n",
        "\n",
        "def input():\n",
        "    \"\"\"\n",
        "    Get next iter, simulating the input() in HackerRank\n",
        "    We overwrite the built-in function input(), which should only be done in rare exceptions like this.\n",
        "    \"\"\"\n",
        "    return next(DATA_ITER)\n",
        "\n"
      ],
      "metadata": {
        "id": "XQOuTZufCLJP"
      },
      "execution_count": 17,
      "outputs": []
    },
    {
      "cell_type": "code",
      "source": [
        "def main(n, m, q, windows, lims):\n",
        "\n",
        "    # Naive:\n",
        "    # O(l) * O(w) = O(N^2) i.e. for each check if the spots are free\n",
        "\n",
        "    # Smart:\n",
        "    # Sort limits & iterate once & resort for printing -> O (l log(l)) + O(l) + O(w) + O (l log(l)) = O (N log(N))\n",
        "    # windows are already sorted\n",
        "    # Sort by l \n",
        "    lims = sorted(list(enumerate(lims)), key=lambda x: x[1][0])\n",
        "    to_print = []\n",
        "\n",
        "    # Append maximum value guaranteed to be higher than all lims to windows\n",
        "    windows.append(n+1)\n",
        "    # Reverse windows to pop from the last element when looping, which is O(1), while the first element is O(N)\n",
        "    windows = list(reversed(windows))\n",
        "    w_cursor = -1\n",
        "    fin_x = windows[0]\n",
        "    x = windows.pop()\n",
        "    popped = True\n",
        "  \n",
        "    for (idx, (l, r)) in lims:\n",
        "        while True:\n",
        "            # reached end of limit range\n",
        "            if (l == r+1):\n",
        "                to_print.append((idx, -1))\n",
        "                break \n",
        "            # free spot before\n",
        "            elif l < x:\n",
        "                to_print.append((idx, l))\n",
        "                break\n",
        "            # need x to catch up to current pos\n",
        "            elif l > x:\n",
        "                # Shorten by one step\n",
        "                x = windows.pop()\n",
        "                popped = True\n",
        "            # move cursors - not popping as next limit may interleave\n",
        "            elif l == x:\n",
        "                l += 1\n",
        "                # Add the current x back to the windows, as it's in range\n",
        "                if popped:\n",
        "                    windows.append(x)\n",
        "                    w_cursor -= 1\n",
        "                    popped = False\n",
        "                # Grab the next x\n",
        "                x = windows[w_cursor]\n",
        "                w_cursor -= 1\n",
        "                \n",
        "        # reset x & cursor if used as next limit may interleave\n",
        "        if w_cursor != -1:\n",
        "            w_cursor = -1\n",
        "            x = windows.pop()\n",
        "            popped = True\n",
        "\n",
        "    for idx, w in sorted(to_print, key=lambda x: x[0]):\n",
        "        if w:\n",
        "          print(w)\n",
        "\n",
        "if __name__ == '__main__':\n",
        "    n, m = [int(x) for x in input().rstrip().split()]\n",
        "    windows = [int(x) for x in input().rstrip().split()]\n",
        "    assert m == len(windows)\n",
        "    q = int(input().rstrip())\n",
        "    \n",
        "    lims = []\n",
        "    for _ in range(q):\n",
        "      try:\n",
        "        to_append = [int(x) for x in input().rstrip().split()]\n",
        "        if to_append:\n",
        "            lims.append(to_append)\n",
        "      except:\n",
        "        continue\n",
        "\n",
        "    main(n, m, q, windows, lims)\n"
      ],
      "metadata": {
        "colab": {
          "base_uri": "https://localhost:8080/"
        },
        "id": "73i16Zy223QH",
        "outputId": "f56f3446-db27-4521-e9a2-3ef8ac329384"
      },
      "execution_count": 18,
      "outputs": [
        {
          "output_type": "stream",
          "name": "stdout",
          "text": [
            "1\n",
            "5\n",
            "-1\n",
            "9\n",
            "-1\n"
          ]
        }
      ]
    },
    {
      "cell_type": "markdown",
      "source": [
        "LINE - 迷路とマッチョ\n",
        "\n",
        "21/21 in 1 hour (time limit was 2 hours)"
      ],
      "metadata": {
        "id": "A74VR7Pf2yWw"
      }
    },
    {
      "cell_type": "code",
      "source": [
        "'''\n",
        "# Sample code to perform I/O:\n",
        "\n",
        "name = input()                  # Reading input from STDIN\n",
        "print('Hi, %s.' % name)         # Writing output to STDOUT\n",
        "\n",
        "# Warning: Printing unwanted or ill-formatted data to output will cause the test cases to fail\n",
        "'''\n",
        "\n",
        "DATA = \"\"\"\n",
        "5 3\n",
        "...\n",
        "..S\n",
        "...\n",
        ".G.\n",
        "...\n",
        "\"\"\"\n",
        "DATA = \"\"\"\n",
        "3 3\n",
        "S##\n",
        "###\n",
        "..G\n",
        "\"\"\"\n",
        "DATA = \"\"\"\n",
        "3 3\n",
        "S##\n",
        "##.\n",
        "#.G\n",
        "\"\"\"\n",
        "# Helper for working in Colab\n",
        "DATA_ITER = iter(DATA.split(\"\\n\")[1:-1])\n",
        "\n",
        "\n",
        "def input():\n",
        "    \"\"\"\n",
        "    Get next iter, simulating the input() in HackerRank\n",
        "    We overwrite the built-in function input(), which should only be done in rare exceptions like this.\n",
        "    \"\"\"\n",
        "    return next(DATA_ITER)"
      ],
      "metadata": {
        "id": "M2lWn_oF20Vn"
      },
      "execution_count": 62,
      "outputs": []
    },
    {
      "cell_type": "code",
      "source": [
        "def get_edges(pos, nrows, ncols):\n",
        "    \"\"\"Zero-indexed\"\"\"\n",
        "    edges = []\n",
        "    # East\n",
        "    if pos[1] < (ncols - 1):\n",
        "        edges.append((pos[0], pos[1]+1))\n",
        "    # South\n",
        "    if pos[0] < (nrows - 1):\n",
        "        edges.append((pos[0]+1, pos[1]))\n",
        "    # West\n",
        "    if pos[1] > 0:\n",
        "        edges.append((pos[0], pos[1]-1))\n",
        "    # North\n",
        "    if pos[0] > 0:\n",
        "        edges.append((pos[0]-1, pos[1]))\n",
        "    return edges\n",
        "\n",
        "def get_neighbors(pos, nrows, ncols, wall_pos, time, wall_count):\n",
        "    # Go through possible movements\n",
        "    neighbors = set()\n",
        "    for edge in get_edges(pos, nrows, ncols):\n",
        "        is_wall = edge in wall_pos\n",
        "        # Should actually update the wall positions, but as the optimal solution never goes over the same field twice, can skip it\n",
        "        neighbors.add((edge, (time+1)+(wall_count+1) if is_wall else time+1, wall_count+1 if is_wall else wall_count))\n",
        "    return neighbors\n",
        "\n",
        "def solve(n, m, matrix, goal_pos, gorilla_pos, wall_pos):\n",
        "\n",
        "    explored_vertices = set()\n",
        "    tracker = {str(gorilla_pos): (gorilla_pos, 0, -1)} # (pos, time, wall_count)\n",
        "\n",
        "    while tracker:\n",
        "        # Pick best option by time, then by wall count\n",
        "        pos_name = min(tracker.items(), key=lambda item: (item[1][1], item[1][2]))[0]\n",
        "\n",
        "        pos, time, wall_count = tracker.pop(pos_name) # Remove from tracker\n",
        "        explored_vertices.add(pos_name)\n",
        "\n",
        "        # Output result if goal reached\n",
        "        if pos == goal_pos:\n",
        "            print(time)\n",
        "            return\n",
        "        \n",
        "        for i, (nbor_pos, nbor_time, nbor_wall_count) in enumerate(get_neighbors(pos, n, m, wall_pos, time, wall_count)):\n",
        "            nbor_pos_name = str(nbor_pos)\n",
        "            # If it has previously been the cheapest option, then there cannot be a cheaper option as time / wall_count never decreases\n",
        "            if nbor_pos_name in explored_vertices:\n",
        "                continue\n",
        "            if nbor_pos_name in tracker:\n",
        "                (cur_pos, cur_time, cur_wall_count) = tracker[nbor_pos_name]\n",
        "                # Worse / Equal on both - skip\n",
        "                if (nbor_time >= cur_time) and (nbor_wall_count >= cur_wall_count):\n",
        "                    continue\n",
        "                nbor_pos_name = str(nbor_pos) + str(nbor_time) + str(nbor_wall_count) \n",
        "\n",
        "            tracker[nbor_pos_name] = (nbor_pos, nbor_time, nbor_wall_count)\n",
        "\n",
        "if __name__ == '__main__':\n",
        "    n, m = [int(x) for x in input().rstrip().split()]\n",
        "    goal_pos = None\n",
        "    gorilla_pos = None\n",
        "    wall_pos = []\n",
        "    matrix = []\n",
        "    for row_idx in range(n):\n",
        "        row = []\n",
        "        for col_idx, char in enumerate(input().rstrip()):\n",
        "            if char == \"G\":\n",
        "                goal_pos = (row_idx, col_idx)\n",
        "            elif char == \"S\":\n",
        "                gorilla_pos = (row_idx, col_idx)\n",
        "            elif char == \"#\":\n",
        "                wall_pos.append((row_idx, col_idx))\n",
        "            row.append(char)\n",
        "        matrix.append(row)\n",
        "\n",
        "    solve(n, m, matrix, goal_pos, gorilla_pos, wall_pos)"
      ],
      "metadata": {
        "colab": {
          "base_uri": "https://localhost:8080/"
        },
        "id": "KCqv344w22j-",
        "outputId": "e26f176f-c3a3-4024-951d-6cf11b09a5d5"
      },
      "execution_count": 63,
      "outputs": [
        {
          "output_type": "stream",
          "name": "stdout",
          "text": [
            "5\n"
          ]
        }
      ]
    },
    {
      "cell_type": "code",
      "source": [
        ""
      ],
      "metadata": {
        "id": "Edw4LTMa1RKs"
      },
      "execution_count": null,
      "outputs": []
    }
  ]
}